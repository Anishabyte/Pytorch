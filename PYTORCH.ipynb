{
  "nbformat": 4,
  "nbformat_minor": 0,
  "metadata": {
    "colab": {
      "provenance": [],
      "gpuType": "T4",
      "authorship_tag": "ABX9TyOj5F+8rWIAimYb5ysOexhK",
      "include_colab_link": true
    },
    "kernelspec": {
      "name": "python3",
      "display_name": "Python 3"
    },
    "language_info": {
      "name": "python"
    },
    "accelerator": "GPU"
  },
  "cells": [
    {
      "cell_type": "markdown",
      "metadata": {
        "id": "view-in-github",
        "colab_type": "text"
      },
      "source": [
        "<a href=\"https://colab.research.google.com/github/Anishabyte/Pytorch/blob/main/PYTORCH.ipynb\" target=\"_parent\"><img src=\"https://colab.research.google.com/assets/colab-badge.svg\" alt=\"Open In Colab\"/></a>"
      ]
    },
    {
      "cell_type": "code",
      "execution_count": null,
      "metadata": {
        "id": "bjDk1v9a51Tf"
      },
      "outputs": [],
      "source": [
        "import torch\n",
        "import numpy as np\n",
        "import matplotlib.pyplot as plt"
      ]
    },
    {
      "cell_type": "markdown",
      "source": [
        "#Initialise Tensors"
      ],
      "metadata": {
        "id": "IbXMc92q3eCg"
      }
    },
    {
      "cell_type": "code",
      "source": [
        "# Intialize tensor\n",
        "x=torch.ones(3,2)\n",
        "print(x)\n",
        "x=torch.zeros(3,2)\n",
        "print(x)\n",
        "x=torch.rand(3,2)\n",
        "print(x)"
      ],
      "metadata": {
        "colab": {
          "base_uri": "https://localhost:8080/"
        },
        "id": "kDArLU6f9q8D",
        "outputId": "37cfd73b-833f-4cda-c4cc-7cc26f53c555"
      },
      "execution_count": null,
      "outputs": [
        {
          "output_type": "stream",
          "name": "stdout",
          "text": [
            "tensor([[1., 1.],\n",
            "        [1., 1.],\n",
            "        [1., 1.]])\n",
            "tensor([[0., 0.],\n",
            "        [0., 0.],\n",
            "        [0., 0.]])\n",
            "tensor([[0.2647, 0.4520],\n",
            "        [0.2833, 0.8872],\n",
            "        [0.6350, 0.7260]])\n"
          ]
        }
      ]
    },
    {
      "cell_type": "code",
      "source": [
        "x=torch.empty(3,2)\n",
        "print(x)\n",
        "# torch.empty will create the tensor but will not give the values to the tensor\n",
        "y=torch.zeros_like(x)\n",
        "print(y)\n",
        "# zeros_like will fill the tensor with 0 having shape which is equal to\n",
        "# the shape of x"
      ],
      "metadata": {
        "colab": {
          "base_uri": "https://localhost:8080/"
        },
        "id": "U8Lxe-M0-Hnc",
        "outputId": "d05ed19f-d2d4-48f3-af02-3a49a38b6ca8"
      },
      "execution_count": null,
      "outputs": [
        {
          "output_type": "stream",
          "name": "stdout",
          "text": [
            "tensor([[3.4382e+31, 3.2278e-41],\n",
            "        [3.1693e+31, 3.2278e-41],\n",
            "        [0.0000e+00, 0.0000e+00]])\n",
            "tensor([[0., 0.],\n",
            "        [0., 0.],\n",
            "        [0., 0.]])\n"
          ]
        }
      ]
    },
    {
      "cell_type": "code",
      "source": [
        "x=torch.linspace(0,1,steps=5)\n",
        "print(x)\n",
        "# linspace stands sor linear space i want to start from 0 and go till 1\n",
        "# so there is a linear space between the no ,and steps will take the 5 steps"
      ],
      "metadata": {
        "colab": {
          "base_uri": "https://localhost:8080/"
        },
        "id": "u-SranQb-gOU",
        "outputId": "be089da9-a3da-478f-876d-addff22701ce"
      },
      "execution_count": null,
      "outputs": [
        {
          "output_type": "stream",
          "name": "stdout",
          "text": [
            "tensor([0.0000, 0.2500, 0.5000, 0.7500, 1.0000])\n"
          ]
        }
      ]
    },
    {
      "cell_type": "code",
      "source": [
        "x=torch.tensor([[1,2],[3,4],[5,6]])\n",
        "print(x)"
      ],
      "metadata": {
        "colab": {
          "base_uri": "https://localhost:8080/"
        },
        "id": "HiqeAseu_KEf",
        "outputId": "947ec88b-6a26-41bd-aa0c-25a3be672abc"
      },
      "execution_count": null,
      "outputs": [
        {
          "output_type": "stream",
          "name": "stdout",
          "text": [
            "tensor([[1, 2],\n",
            "        [3, 4],\n",
            "        [5, 6]])\n"
          ]
        }
      ]
    },
    {
      "cell_type": "markdown",
      "source": [
        "#Slicing Tensor"
      ],
      "metadata": {
        "id": "qlsVaEFr3q-V"
      }
    },
    {
      "cell_type": "code",
      "source": [
        "# slicing tensor\n",
        "print(x.size())\n",
        "# For accessing different part of the tensor so it will select all the columns and rows\n",
        "print(x[:,1])\n",
        "print(x[0,:])"
      ],
      "metadata": {
        "colab": {
          "base_uri": "https://localhost:8080/"
        },
        "id": "BmS1ek44_oPv",
        "outputId": "e5e90fc3-8a47-4fb3-d8a2-bd178fef7b7d"
      },
      "execution_count": null,
      "outputs": [
        {
          "output_type": "stream",
          "name": "stdout",
          "text": [
            "torch.Size([3, 2])\n",
            "tensor([2, 4, 6])\n",
            "tensor([1, 2])\n"
          ]
        }
      ]
    },
    {
      "cell_type": "code",
      "source": [
        "y=x[1,1]\n",
        "# for accesing a particular value\n",
        "print(y)\n",
        "print(y.item())"
      ],
      "metadata": {
        "colab": {
          "base_uri": "https://localhost:8080/"
        },
        "id": "eqQzRQMa_4Ff",
        "outputId": "9e868573-87b8-41d0-b50a-5b3397d468f6"
      },
      "execution_count": null,
      "outputs": [
        {
          "output_type": "stream",
          "name": "stdout",
          "text": [
            "tensor(4)\n",
            "4\n"
          ]
        }
      ]
    },
    {
      "cell_type": "markdown",
      "source": [
        "#Reshaping Tensor"
      ],
      "metadata": {
        "id": "d-k-27Ty3wDa"
      }
    },
    {
      "cell_type": "code",
      "source": [
        "# Reshaping\n",
        "# there were 3 rows and 2 column if i want to reshape the tensor into 2 rows and 3 column then\n",
        "print(x)\n",
        "y=x.view(2,3)\n",
        "print(y)"
      ],
      "metadata": {
        "colab": {
          "base_uri": "https://localhost:8080/"
        },
        "id": "VXqwrzrmATWX",
        "outputId": "83abe1c5-7349-438f-86e8-99a922b7240d"
      },
      "execution_count": null,
      "outputs": [
        {
          "output_type": "stream",
          "name": "stdout",
          "text": [
            "tensor([[1, 2],\n",
            "        [3, 4],\n",
            "        [5, 6]])\n",
            "tensor([[1, 2, 3],\n",
            "        [4, 5, 6]])\n"
          ]
        }
      ]
    },
    {
      "cell_type": "code",
      "source": [
        "y=x.view(6,-1)\n",
        "#  It will fill it into a 6,0 tensor,it takes 6 as dimension\n",
        "print(y)"
      ],
      "metadata": {
        "colab": {
          "base_uri": "https://localhost:8080/"
        },
        "id": "sjsuh004AkMD",
        "outputId": "ab370e88-4607-4aa6-cb0f-8f15c4e94640"
      },
      "execution_count": null,
      "outputs": [
        {
          "output_type": "stream",
          "name": "stdout",
          "text": [
            "tensor([[1],\n",
            "        [2],\n",
            "        [3],\n",
            "        [4],\n",
            "        [5],\n",
            "        [6]])\n"
          ]
        }
      ]
    },
    {
      "cell_type": "markdown",
      "source": [
        "#Simple Tensor operations"
      ],
      "metadata": {
        "id": "VwdIX1LV33k-"
      }
    },
    {
      "cell_type": "code",
      "source": [
        "# simple tensor operation\n",
        "x=torch.ones(3,2)\n",
        "y=torch.rand(3,2)\n",
        "z=x+y\n",
        "print(z)\n",
        "z=x-y\n",
        "print(z)\n",
        "z=x*y\n",
        "print(z)\n",
        "z=x/y\n",
        "print(z)\n"
      ],
      "metadata": {
        "colab": {
          "base_uri": "https://localhost:8080/"
        },
        "id": "3nktoyKyA3o7",
        "outputId": "0c93ccfa-07ef-45b0-93d7-35ce9ea9d3b2"
      },
      "execution_count": null,
      "outputs": [
        {
          "output_type": "stream",
          "name": "stdout",
          "text": [
            "tensor([[1.1621, 1.9395],\n",
            "        [1.9150, 1.0527],\n",
            "        [1.1545, 1.6253]])\n",
            "tensor([[0.8379, 0.0605],\n",
            "        [0.0850, 0.9473],\n",
            "        [0.8455, 0.3747]])\n",
            "tensor([[0.1621, 0.9395],\n",
            "        [0.9150, 0.0527],\n",
            "        [0.1545, 0.6253]])\n",
            "tensor([[ 6.1706,  1.0644],\n",
            "        [ 1.0929, 18.9896],\n",
            "        [ 6.4727,  1.5992]])\n"
          ]
        }
      ]
    },
    {
      "cell_type": "code",
      "source": [
        "z=y.add(x)\n",
        "print(z)\n",
        "print(y)"
      ],
      "metadata": {
        "colab": {
          "base_uri": "https://localhost:8080/"
        },
        "id": "uwyAmWxsDT-t",
        "outputId": "43bc3ceb-2c15-408b-8ace-8a923146e5a9"
      },
      "execution_count": null,
      "outputs": [
        {
          "output_type": "stream",
          "name": "stdout",
          "text": [
            "tensor([[2.1621, 2.9395],\n",
            "        [2.9150, 2.0527],\n",
            "        [2.1545, 2.6253]])\n",
            "tensor([[1.1621, 1.9395],\n",
            "        [1.9150, 1.0527],\n",
            "        [1.1545, 1.6253]])\n"
          ]
        }
      ]
    },
    {
      "cell_type": "code",
      "source": [
        "z=y.add_(x)\n",
        "print(z)\n",
        "# so underscore in the value gives the same result as add n z for y as well\n",
        "print(y)"
      ],
      "metadata": {
        "colab": {
          "base_uri": "https://localhost:8080/"
        },
        "id": "mgnS9qWJCr1v",
        "outputId": "bc94085e-2be4-489b-97b4-fd1fa7628479"
      },
      "execution_count": null,
      "outputs": [
        {
          "output_type": "stream",
          "name": "stdout",
          "text": [
            "tensor([[4.1621, 4.9395],\n",
            "        [4.9150, 4.0527],\n",
            "        [4.1545, 4.6253]])\n",
            "tensor([[4.1621, 4.9395],\n",
            "        [4.9150, 4.0527],\n",
            "        [4.1545, 4.6253]])\n"
          ]
        }
      ]
    },
    {
      "cell_type": "markdown",
      "source": [
        "#Numpy and Pytorch"
      ],
      "metadata": {
        "id": "vRA0RErt3-oq"
      }
    },
    {
      "cell_type": "code",
      "source": [
        "# Numpy<>Pytorch\n",
        "# so here we can see that type of x is tensor and type of x_np is numpy array after converting the value\n",
        "x_np=x.numpy()\n",
        "print(type(x),type(x_np))\n",
        "print(x_np)"
      ],
      "metadata": {
        "colab": {
          "base_uri": "https://localhost:8080/"
        },
        "id": "IYsGi7r2CwK1",
        "outputId": "9c87baf3-2917-426c-80e6-b112e4ef35c5"
      },
      "execution_count": null,
      "outputs": [
        {
          "output_type": "stream",
          "name": "stdout",
          "text": [
            "<class 'torch.Tensor'> <class 'numpy.ndarray'>\n",
            "[[1. 1.]\n",
            " [1. 1.]\n",
            " [1. 1.]]\n"
          ]
        }
      ]
    },
    {
      "cell_type": "code",
      "source": [
        "# here a is a numpy and to convert it to tensor we do\n",
        "a=np.random.randn(5)\n",
        "print(a)\n",
        "a_pt=torch.from_numpy(a)\n",
        "print(type(a),type(a_pt))\n",
        "print"
      ],
      "metadata": {
        "colab": {
          "base_uri": "https://localhost:8080/"
        },
        "id": "V8Ut8XPJFSlk",
        "outputId": "b8fe6055-b061-4bfa-eb71-6aeb918b6edd"
      },
      "execution_count": null,
      "outputs": [
        {
          "output_type": "stream",
          "name": "stdout",
          "text": [
            "[-0.99455103 -0.88644007  0.19330381  0.18466862 -0.14388452]\n",
            "<class 'numpy.ndarray'> <class 'torch.Tensor'>\n"
          ]
        },
        {
          "output_type": "execute_result",
          "data": {
            "text/plain": [
              "<function print>"
            ]
          },
          "metadata": {},
          "execution_count": 27
        }
      ]
    },
    {
      "cell_type": "code",
      "source": [
        "# It will add 1 to each value of the tensor\n",
        "np.add(a,1,out=a)\n",
        "print(a)\n",
        "print(a_pt)"
      ],
      "metadata": {
        "colab": {
          "base_uri": "https://localhost:8080/"
        },
        "id": "43BEHJpCFOCz",
        "outputId": "46143095-c87d-4ed3-a5e3-55c7ccf9600b"
      },
      "execution_count": null,
      "outputs": [
        {
          "output_type": "stream",
          "name": "stdout",
          "text": [
            "[0.00544897 0.11355993 1.19330381 1.18466862 0.85611548]\n",
            "tensor([0.0054, 0.1136, 1.1933, 1.1847, 0.8561], dtype=torch.float64)\n"
          ]
        }
      ]
    },
    {
      "cell_type": "code",
      "source": [
        "# we are using a loop and in each iteration we are generating 100 random value and\n",
        "# adding it using numpy\n",
        "%%time\n",
        "for i in range(100):\n",
        "  a=np.random.randn(100,100)\n",
        "  b=np.random.randn(100,100)\n",
        "  c=a+b"
      ],
      "metadata": {
        "colab": {
          "base_uri": "https://localhost:8080/"
        },
        "id": "nG4zBQh-GD0P",
        "outputId": "e16e6fae-6efe-4fee-fdd1-16178e0021c6"
      },
      "execution_count": null,
      "outputs": [
        {
          "output_type": "stream",
          "name": "stdout",
          "text": [
            "CPU times: user 66.8 ms, sys: 0 ns, total: 66.8 ms\n",
            "Wall time: 67.1 ms\n"
          ]
        }
      ]
    },
    {
      "cell_type": "code",
      "source": [
        "# This is adding the random values in tensor\n",
        "%%time\n",
        "for i in range(100):\n",
        "  a=torch.randn(100,100)\n",
        "  b=torch.randn(100,100)\n",
        "  c=a+b"
      ],
      "metadata": {
        "colab": {
          "base_uri": "https://localhost:8080/"
        },
        "id": "k3tRhaHtGvs7",
        "outputId": "1a7c8173-7bb6-40ab-df1b-02a3e72114f0"
      },
      "execution_count": null,
      "outputs": [
        {
          "output_type": "stream",
          "name": "stdout",
          "text": [
            "CPU times: user 27 ms, sys: 0 ns, total: 27 ms\n",
            "Wall time: 28.2 ms\n"
          ]
        }
      ]
    },
    {
      "cell_type": "markdown",
      "source": [
        "#CUDA Support"
      ],
      "metadata": {
        "id": "IWTBzfOO4FE8"
      }
    },
    {
      "cell_type": "code",
      "source": [
        "print(torch.cuda.device_count())"
      ],
      "metadata": {
        "id": "GVYSKLKjG4j8",
        "colab": {
          "base_uri": "https://localhost:8080/"
        },
        "outputId": "500fc65c-7aaf-4f96-d113-d2db11b1aa15"
      },
      "execution_count": null,
      "outputs": [
        {
          "output_type": "stream",
          "name": "stdout",
          "text": [
            "1\n"
          ]
        }
      ]
    },
    {
      "cell_type": "code",
      "source": [
        "print(torch.cuda.device(0))\n",
        "print(torch.cuda.get_device_name(0))\n",
        "# there is a device at location 0"
      ],
      "metadata": {
        "colab": {
          "base_uri": "https://localhost:8080/"
        },
        "id": "QMFGslJVw6Ss",
        "outputId": "bd30d74e-7a69-43c5-9340-a5c536a000bb"
      },
      "execution_count": null,
      "outputs": [
        {
          "output_type": "stream",
          "name": "stdout",
          "text": [
            "<torch.cuda.device object at 0x7ffa06abbbe0>\n",
            "Tesla T4\n"
          ]
        }
      ]
    },
    {
      "cell_type": "code",
      "source": [
        "cuda0=torch.device('cuda:0')\n",
        "# cuda 0 gives the location of the device"
      ],
      "metadata": {
        "id": "II7f8_MWxZ8U"
      },
      "execution_count": null,
      "outputs": []
    },
    {
      "cell_type": "code",
      "source": [
        "a=torch.ones(3,2,device=cuda0)\n",
        "b=torch.ones(3,2,device=cuda0)\n",
        "c=a+b\n",
        "print(c)"
      ],
      "metadata": {
        "colab": {
          "base_uri": "https://localhost:8080/"
        },
        "id": "zpuJlH8FxaKm",
        "outputId": "f9457561-5510-47f0-b03c-63cb5d4349fc"
      },
      "execution_count": null,
      "outputs": [
        {
          "output_type": "stream",
          "name": "stdout",
          "text": [
            "tensor([[2., 2.],\n",
            "        [2., 2.],\n",
            "        [2., 2.]], device='cuda:0')\n"
          ]
        }
      ]
    },
    {
      "cell_type": "code",
      "source": [
        "%%time\n",
        "for i in range(10):\n",
        "  a=np.random.randn(1000,1000)\n",
        "  b=np.random.randn(1000,1000)\n",
        "  np.add(b,a)"
      ],
      "metadata": {
        "colab": {
          "base_uri": "https://localhost:8080/"
        },
        "id": "IAtR4R1HxaZi",
        "outputId": "faeb5d23-5612-4a5a-b138-c1aa356957b1"
      },
      "execution_count": null,
      "outputs": [
        {
          "output_type": "stream",
          "name": "stdout",
          "text": [
            "CPU times: user 527 ms, sys: 13.1 ms, total: 540 ms\n",
            "Wall time: 538 ms\n"
          ]
        }
      ]
    },
    {
      "cell_type": "code",
      "source": [
        "%%time\n",
        "for i in range(10):\n",
        "  a_cpu=torch.randn(1000,1000)\n",
        "  b_cpu=torch.randn(1000,1000)\n",
        "  b_cpu.add_(a_cpu)"
      ],
      "metadata": {
        "colab": {
          "base_uri": "https://localhost:8080/"
        },
        "id": "bsjq0MfVyj2M",
        "outputId": "f444a989-76ce-47f4-d9c9-5ca117f17309"
      },
      "execution_count": null,
      "outputs": [
        {
          "output_type": "stream",
          "name": "stdout",
          "text": [
            "CPU times: user 176 ms, sys: 19.5 ms, total: 196 ms\n",
            "Wall time: 203 ms\n"
          ]
        }
      ]
    },
    {
      "cell_type": "code",
      "source": [
        "%%time\n",
        "for i in range(10):\n",
        "  a=torch.randn(1000,1000,device=cuda0)\n",
        "  b=torch.randn(1000,1000,device=cuda0)\n",
        "  b.add_(a)\n",
        "  # It would be similar for smaller problem so gpu cn be used for large amount of data"
      ],
      "metadata": {
        "colab": {
          "base_uri": "https://localhost:8080/"
        },
        "id": "ZAvKBGzZyu9a",
        "outputId": "54318ef6-3b59-44a7-f2f2-79bc303a4a87"
      },
      "execution_count": null,
      "outputs": [
        {
          "output_type": "stream",
          "name": "stdout",
          "text": [
            "CPU times: user 1.55 ms, sys: 1.73 ms, total: 3.28 ms\n",
            "Wall time: 11.6 ms\n"
          ]
        }
      ]
    },
    {
      "cell_type": "code",
      "source": [
        "%%time\n",
        "for i in range(10):\n",
        "  a=np.random.randn(10000,10000)\n",
        "  b=np.random.randn(10000,10000)\n",
        "  np.matmul(b,a)\n"
      ],
      "metadata": {
        "colab": {
          "base_uri": "https://localhost:8080/"
        },
        "id": "yTiSGk_qy2du",
        "outputId": "c5c33e11-99d1-4e73-dd99-3695e0596019"
      },
      "execution_count": null,
      "outputs": [
        {
          "output_type": "stream",
          "name": "stdout",
          "text": [
            "CPU times: user 16min 7s, sys: 15 s, total: 16min 22s\n",
            "Wall time: 9min 41s\n"
          ]
        }
      ]
    },
    {
      "cell_type": "code",
      "source": [
        "%%time\n",
        "for i in range(10):\n",
        "  a_cpu=torch.randn([10000,10000])\n",
        "  b_cpu=torch.randn([10000,10000])\n",
        "  torch.matmul(a_cpu,b_cpu)"
      ],
      "metadata": {
        "colab": {
          "base_uri": "https://localhost:8080/"
        },
        "id": "PtEiBB1f0Lok",
        "outputId": "6fd7f8a7-572f-4eae-9f11-b6dc47a380a2"
      },
      "execution_count": null,
      "outputs": [
        {
          "output_type": "stream",
          "name": "stdout",
          "text": [
            "CPU times: user 4min 24s, sys: 6.83 s, total: 4min 31s\n",
            "Wall time: 4min 30s\n"
          ]
        }
      ]
    },
    {
      "cell_type": "code",
      "source": [
        "%%time\n",
        "for i  in range(10):\n",
        "  a=torch.randn([10000,10000],device=cuda0)\n",
        "  b=torch.randn([10000,10000],device=cuda0)\n",
        "  torch.matmul(b,a)"
      ],
      "metadata": {
        "colab": {
          "base_uri": "https://localhost:8080/"
        },
        "id": "UZXqGS320SLJ",
        "outputId": "ccc3d116-f300-4345-95aa-1d86311f4e87"
      },
      "execution_count": null,
      "outputs": [
        {
          "output_type": "stream",
          "name": "stdout",
          "text": [
            "CPU times: user 20.1 ms, sys: 13.9 ms, total: 34 ms\n",
            "Wall time: 124 ms\n"
          ]
        }
      ]
    },
    {
      "cell_type": "markdown",
      "source": [
        "#Autograd"
      ],
      "metadata": {
        "id": "weRAYrxw4M2p"
      }
    },
    {
      "cell_type": "code",
      "source": [
        "# Automatic Differentiation\n",
        "x=torch.ones([3,2],requires_grad=True)\n",
        "print(x)"
      ],
      "metadata": {
        "colab": {
          "base_uri": "https://localhost:8080/"
        },
        "id": "NsvbAzZo0YQ_",
        "outputId": "64098c03-3ac6-45fd-bd7f-7dacc0ead4b1"
      },
      "execution_count": null,
      "outputs": [
        {
          "output_type": "stream",
          "name": "stdout",
          "text": [
            "tensor([[1., 1.],\n",
            "        [1., 1.],\n",
            "        [1., 1.]], requires_grad=True)\n"
          ]
        }
      ]
    },
    {
      "cell_type": "code",
      "source": [
        "y=x+5\n",
        "print(y)"
      ],
      "metadata": {
        "colab": {
          "base_uri": "https://localhost:8080/"
        },
        "id": "Mn1Rc27u01XB",
        "outputId": "907807d9-e402-4d5a-b32d-4be6b8d2d129"
      },
      "execution_count": null,
      "outputs": [
        {
          "output_type": "stream",
          "name": "stdout",
          "text": [
            "tensor([[6., 6.],\n",
            "        [6., 6.],\n",
            "        [6., 6.]], grad_fn=<AddBackward0>)\n"
          ]
        }
      ]
    },
    {
      "cell_type": "code",
      "source": [
        "z=y*y +1\n",
        "print(z)"
      ],
      "metadata": {
        "colab": {
          "base_uri": "https://localhost:8080/"
        },
        "id": "6abgKCME03sS",
        "outputId": "52cc94eb-9c8e-44dd-a045-611793b8c50e"
      },
      "execution_count": null,
      "outputs": [
        {
          "output_type": "stream",
          "name": "stdout",
          "text": [
            "tensor([[37., 37.],\n",
            "        [37., 37.],\n",
            "        [37., 37.]], grad_fn=<AddBackward0>)\n"
          ]
        }
      ]
    },
    {
      "cell_type": "code",
      "source": [
        "# finally we got 6 no in the matrix if we want to convert all of them into a single no\n",
        "# then we do torch.sum\n",
        "t=torch.sum(z)\n",
        "print(t)"
      ],
      "metadata": {
        "colab": {
          "base_uri": "https://localhost:8080/"
        },
        "id": "FOq0T1Sd08_Y",
        "outputId": "479adc55-9a79-4394-fc4c-bc05d905f58c"
      },
      "execution_count": null,
      "outputs": [
        {
          "output_type": "stream",
          "name": "stdout",
          "text": [
            "tensor(222., grad_fn=<SumBackward0>)\n"
          ]
        }
      ]
    },
    {
      "cell_type": "code",
      "source": [
        "t.backward()"
      ],
      "metadata": {
        "id": "LyXfUCDD1BY-"
      },
      "execution_count": null,
      "outputs": []
    },
    {
      "cell_type": "code",
      "source": [
        "print(x.grad)"
      ],
      "metadata": {
        "colab": {
          "base_uri": "https://localhost:8080/"
        },
        "id": "C0PzfM2y1C2k",
        "outputId": "4271ee1d-4a50-4949-8e90-c4f694cc3797"
      },
      "execution_count": null,
      "outputs": [
        {
          "output_type": "stream",
          "name": "stdout",
          "text": [
            "tensor([[12., 12.],\n",
            "        [12., 12.],\n",
            "        [12., 12.]])\n"
          ]
        }
      ]
    },
    {
      "cell_type": "code",
      "source": [
        "# t=summationZiZi=Yi*Yi+1\n",
        "# Yi=Xi+5\n",
        "# dt/dXi=dZi/dxi=dZi/dYi*dYi/dXi=2YiX1\n",
        "# at x=1 and y=6 dt/dxi=12"
      ],
      "metadata": {
        "id": "dzY8q8Wd1Eqc"
      },
      "execution_count": null,
      "outputs": []
    },
    {
      "cell_type": "code",
      "source": [
        "x=torch.ones([3,2],requires_grad=True)\n",
        "y=x+5\n",
        "r=1/(1+torch.exp(-y))\n",
        "print(r)\n",
        "s=torch.sum(r)\n",
        "s.backward()\n",
        "print(x.grad)\n",
        "# if we directly try to calculate the value of r without summing all the vlaue of r then it will genertate\n",
        "%%shan error"
      ],
      "metadata": {
        "colab": {
          "base_uri": "https://localhost:8080/"
        },
        "id": "KAHC0sR17fOf",
        "outputId": "6acad9a1-c70d-4962-d56f-b014540a0ff6"
      },
      "execution_count": null,
      "outputs": [
        {
          "output_type": "stream",
          "name": "stdout",
          "text": [
            "tensor([[0.9975, 0.9975],\n",
            "        [0.9975, 0.9975],\n",
            "        [0.9975, 0.9975]], grad_fn=<MulBackward0>)\n",
            "tensor([[0.0025, 0.0025],\n",
            "        [0.0025, 0.0025],\n",
            "        [0.0025, 0.0025]])\n"
          ]
        }
      ]
    },
    {
      "cell_type": "code",
      "source": [
        "\n",
        "x=torch.tensor([[1,1],[2,4],[3,8]],dtype=float,requires_grad=True)\n",
        "y=x+5\n",
        "# r=1/(1+torch.exp(-y))\n",
        "r=y*y\n",
        "a=torch.ones([3,2])\n",
        "r.backward(a)\n",
        "print(x.grad)\n",
        "# ds/dx=ds/dr.dr/dx"
      ],
      "metadata": {
        "colab": {
          "base_uri": "https://localhost:8080/"
        },
        "id": "QEsRePb4722W",
        "outputId": "48f873ef-42a7-48b6-cb64-50c97d0801d6"
      },
      "execution_count": null,
      "outputs": [
        {
          "output_type": "stream",
          "name": "stdout",
          "text": [
            "tensor([[12., 12.],\n",
            "        [14., 18.],\n",
            "        [16., 26.]], dtype=torch.float64)\n"
          ]
        }
      ]
    },
    {
      "cell_type": "markdown",
      "source": [
        "#Autograd example"
      ],
      "metadata": {
        "id": "1T995E_B4ccu"
      }
    },
    {
      "cell_type": "code",
      "source": [
        "# Autograd example\n",
        "# suppose we have a 20 X1 matrix the weight we want to achieve is 3 and bias should be -2\n",
        "# so intial weight is equal to 1 and bias is also equal to 1\n",
        "# We have to calculate the gradient i order to predict the actul value of weight and bias\n",
        "# so the formula for calcylating gradient is W new=W old -n*dloss/dw were n is eta which is some activation function\n",
        "# so we see for getting weight as +ve so need to have a -ve gradient value for weight and +ve for bias\n",
        "x=torch.randn([20,1],requires_grad=True)\n",
        "y=3*x-2"
      ],
      "metadata": {
        "id": "sHeJhWU4-3Bk"
      },
      "execution_count": null,
      "outputs": []
    },
    {
      "cell_type": "code",
      "source": [
        "w=torch.tensor([1.],requires_grad=True)\n",
        "b=torch.tensor([1.],requires_grad=True)\n",
        "y_hat=w*x+b\n",
        "loss=torch.sum((y_hat-y)**2)"
      ],
      "metadata": {
        "id": "-zIERXP9H27z"
      },
      "execution_count": null,
      "outputs": []
    },
    {
      "cell_type": "code",
      "source": [
        "print(loss)"
      ],
      "metadata": {
        "colab": {
          "base_uri": "https://localhost:8080/"
        },
        "id": "enOK4hyKAx3c",
        "outputId": "c7d721b5-7ce6-425e-fd56-54f4381e79df"
      },
      "execution_count": null,
      "outputs": [
        {
          "output_type": "stream",
          "name": "stdout",
          "text": [
            "tensor(243.9368, grad_fn=<SumBackward0>)\n"
          ]
        }
      ]
    },
    {
      "cell_type": "code",
      "source": [
        "loss.backward()"
      ],
      "metadata": {
        "id": "HgubjvZtAyII"
      },
      "execution_count": null,
      "outputs": []
    },
    {
      "cell_type": "code",
      "source": [
        "print(w.grad,b.grad)"
      ],
      "metadata": {
        "colab": {
          "base_uri": "https://localhost:8080/"
        },
        "id": "yzRpaF1xAyYC",
        "outputId": "15570419-cd6d-4d8d-cf6e-f591c8d663cf"
      },
      "execution_count": null,
      "outputs": [
        {
          "output_type": "stream",
          "name": "stdout",
          "text": [
            "tensor([-58.0126]) tensor([123.9495])\n"
          ]
        }
      ]
    },
    {
      "cell_type": "markdown",
      "source": [
        "#In loop"
      ],
      "metadata": {
        "id": "8ge7UD4v4iBE"
      }
    },
    {
      "cell_type": "code",
      "source": [
        "# Do it in Loop for updating weight and bias\n",
        "learning_rate=0.01\n",
        "w=torch.tensor([1.],requires_grad=True)\n",
        "b=torch.tensor([1.],requires_grad=True)\n",
        "\n",
        "print(w.item(),b.item())\n",
        "\n",
        "for i in range(10):\n",
        "  # forward pass\n",
        "  x=torch.randn([20,1])\n",
        "  y=3*x-2\n",
        "  y_hat=w*x+b\n",
        "  loss=torch.sum((y_hat-y)**2)\n",
        "  # backward pass\n",
        "  loss.backward()\n",
        "  with torch.no_grad():\n",
        "    w-=learning_rate*w.grad\n",
        "    b-=learning_rate*b.grad\n",
        "    w.grad.zero_()\n",
        "    b.grad.zero_()\n",
        "    print(w.item(),b.item())"
      ],
      "metadata": {
        "colab": {
          "base_uri": "https://localhost:8080/"
        },
        "id": "HHbZzEhzD4cs",
        "outputId": "e9ec03c5-ecad-42f7-8d4b-a3f6b4213e79"
      },
      "execution_count": null,
      "outputs": [
        {
          "output_type": "stream",
          "name": "stdout",
          "text": [
            "1.0 1.0\n",
            "1.410162329673767 -0.10245776176452637\n",
            "1.9875491857528687 -0.8831511735916138\n",
            "2.343951940536499 -1.3273388147354126\n",
            "2.5088531970977783 -1.5309752225875854\n",
            "2.889235258102417 -1.7966673374176025\n",
            "2.973598003387451 -1.8930530548095703\n",
            "2.97692608833313 -1.9340931177139282\n",
            "2.9792234897613525 -1.956475019454956\n",
            "2.989084005355835 -1.9738595485687256\n",
            "2.9916040897369385 -1.983607530593872\n"
          ]
        }
      ]
    },
    {
      "cell_type": "code",
      "source": [
        "# For a large problem\n",
        "%%time\n",
        "learning_rate=0.001\n",
        "N=1000000\n",
        "epochs=20000\n",
        "\n",
        "w=torch.rand([N],requires_grad=True)\n",
        "b=torch.rand([1],requires_grad=True)\n",
        "\n",
        "print(torch.mean(w).item(),b.item())\n",
        "print(\"hh\")\n",
        "for i in range(epochs):\n",
        "  x=torch.randn([N])\n",
        "  y=torch.dot(3*torch.ones([N]),x)-2\n",
        "  y_hat=torch.dot(w,x)+b\n",
        "  loss=torch.sum((y_hat-y)**2)\n",
        "  loss.backward()\n",
        "  with torch.no_grad():\n",
        "    w-=learning_rate*w.grad\n",
        "    b-=learning_rate*b.grad\n",
        "    w.grad.zero_()\n",
        "    b.grad.zero_()\n",
        "    # print(torch.mean(w).item(),b.item())"
      ],
      "metadata": {
        "colab": {
          "base_uri": "https://localhost:8080/"
        },
        "id": "Y0-WSdXjINa-",
        "outputId": "bbead6fd-a51d-469f-c592-579b823007c2"
      },
      "execution_count": null,
      "outputs": [
        {
          "output_type": "stream",
          "name": "stdout",
          "text": [
            "0.49960488080978394 0.30316799879074097\n",
            "hh\n",
            "CPU times: user 5min 8s, sys: 42.2 s, total: 5min 51s\n",
            "Wall time: 5min 52s\n"
          ]
        }
      ]
    },
    {
      "cell_type": "code",
      "source": [
        "# For a large problem\n",
        "%%time\n",
        "learning_rate=0.001\n",
        "N=1000000\n",
        "epochs=20000\n",
        "\n",
        "w=torch.rand([N],requires_grad=True,device=cuda0)\n",
        "b=torch.rand([1],requires_grad=True,device=cuda0)\n",
        "\n",
        "print(torch.mean(w).item(),b.item())\n",
        "print(\"hh\")\n",
        "for i in range(epochs):\n",
        "  x=torch.randn([N],device=cuda0)\n",
        "  y=torch.dot(3*torch.ones([N], device = cuda0),x)-2\n",
        "  y_hat=torch.dot(w,x)+b\n",
        "  loss=torch.sum((y_hat-y)**2)\n",
        "  loss.backward()\n",
        "  with torch.no_grad():\n",
        "    w-=learning_rate*w.grad\n",
        "    b-=learning_rate*b.grad\n",
        "    w.grad.zero_()\n",
        "    b.grad.zero_()\n",
        "    # print(torch.mean(w).item(),b.item())\n"
      ],
      "metadata": {
        "colab": {
          "base_uri": "https://localhost:8080/"
        },
        "id": "-Gv9E24xINo5",
        "outputId": "3409f331-2298-4272-a9e2-06a7518dabff"
      },
      "execution_count": null,
      "outputs": [
        {
          "output_type": "stream",
          "name": "stdout",
          "text": [
            "0.5003251433372498 0.08579670637845993\n",
            "hh\n",
            "CPU times: user 11.2 s, sys: 524 ms, total: 11.7 s\n",
            "Wall time: 12.4 s\n"
          ]
        }
      ]
    },
    {
      "cell_type": "markdown",
      "source": [
        "#Feed Forward Neural Network"
      ],
      "metadata": {
        "id": "L9A1s7F_4neA"
      }
    },
    {
      "cell_type": "code",
      "source": [
        "# Feed Forward Neural Network\n",
        "import numpy as np\n",
        "import math\n",
        "import matplotlib\n",
        "import matplotlib.pyplot as plt\n",
        "import pandas as pd\n",
        "from sklearn .model_selection import train_test_split\n",
        "from sklearn.metrics import accuracy_score,mean_squared_error,log_loss\n",
        "import torch\n",
        "import torch.nn as nn\n",
        "import torch.nn.functional as F\n",
        "import torch.optim as optim\n",
        "# tqdm shows some bar and symbol after each epochs\n",
        "from tqdm import tqdm_notebook\n",
        "import seaborn as sns\n",
        "import time\n",
        "from IPython.display import HTML\n",
        "import warnings\n",
        "warnings.filterwarnings('ignore')\n",
        "from sklearn.preprocessing import OneHotEncoder\n",
        "from sklearn.datasets import make_blobs\n",
        "import torch"
      ],
      "metadata": {
        "id": "ESB6Ly7XIN10"
      },
      "execution_count": 1,
      "outputs": []
    },
    {
      "cell_type": "code",
      "source": [
        "torch.manual_seed(0)\n",
        "# seed is used for generarting raandom weight in the start which will remain the same until the weights are not updated"
      ],
      "metadata": {
        "id": "M11grvsqIOAx",
        "colab": {
          "base_uri": "https://localhost:8080/"
        },
        "outputId": "ff6b3622-0d45-4bfd-edcf-4b56bc4d51d3"
      },
      "execution_count": 6,
      "outputs": [
        {
          "output_type": "execute_result",
          "data": {
            "text/plain": [
              "<torch._C.Generator at 0x79ed07c93810>"
            ]
          },
          "metadata": {},
          "execution_count": 6
        }
      ]
    },
    {
      "cell_type": "code",
      "source": [
        "my_cmap = matplotlib.colors.LinearSegmentedColormap.from_list(\"\", [\"red\",\"yellow\",\"green\"])\n"
      ],
      "metadata": {
        "id": "Kn7K4CmEIOPF"
      },
      "execution_count": 7,
      "outputs": []
    },
    {
      "cell_type": "code",
      "source": [
        "# generate Dataset\n",
        "# center is 4 that means that we have 4 classes and 2 features means it is in 2d\n",
        "data,labels=make_blobs(n_samples=1000,centers=4,n_features=2,random_state=0)\n",
        "print(data.shape,labels.shape)"
      ],
      "metadata": {
        "colab": {
          "base_uri": "https://localhost:8080/"
        },
        "id": "D6nnUN0uStrb",
        "outputId": "37007c2a-c2ce-43c0-8c5a-a919790f00f8"
      },
      "execution_count": 8,
      "outputs": [
        {
          "output_type": "stream",
          "name": "stdout",
          "text": [
            "(1000, 2) (1000,)\n"
          ]
        }
      ]
    },
    {
      "cell_type": "code",
      "source": [
        "plt.scatter(data[:,0],data[:,1],c=labels,cmap=my_cmap)\n",
        "plt.show()"
      ],
      "metadata": {
        "colab": {
          "base_uri": "https://localhost:8080/",
          "height": 430
        },
        "id": "cABg-xX3TNrd",
        "outputId": "69960936-fd92-4bfa-daa1-1ce34642141d"
      },
      "execution_count": 9,
      "outputs": [
        {
          "output_type": "display_data",
          "data": {
            "text/plain": [
              "<Figure size 640x480 with 1 Axes>"
            ],
            "image/png": "[encoded data removed]"
          },
          "metadata": {}
        }
      ]
    },
    {
      "cell_type": "code",
      "source": [
        "X_train,X_val,Y_train,Y_val=train_test_split(data,labels,stratify=labels,random_state=0)\n",
        "print(X_train.shape,X_val.shape,labels.shape)"
      ],
      "metadata": {
        "colab": {
          "base_uri": "https://localhost:8080/"
        },
        "id": "DwgPffzZWFGJ",
        "outputId": "de9b7dae-556c-4743-a2b5-97a3ec625c8a"
      },
      "execution_count": 10,
      "outputs": [
        {
          "output_type": "stream",
          "name": "stdout",
          "text": [
            "(750, 2) (250, 2) (1000,)\n"
          ]
        }
      ]
    },
    {
      "cell_type": "code",
      "source": [
        "# using torch tensors and autograd\n",
        "# so here we convert all the value of glob dataset is by using torch.tensor one way of doing it is using map function\n",
        "X_train,Y_train,X_val,Y_val=map(torch.tensor,(X_train,Y_train,X_val,Y_val))"
      ],
      "metadata": {
        "id": "qmLxPw3xWV9x"
      },
      "execution_count": 11,
      "outputs": []
    },
    {
      "cell_type": "code",
      "source": [
        "print(X_train.shape,Y_train.shape)"
      ],
      "metadata": {
        "colab": {
          "base_uri": "https://localhost:8080/"
        },
        "id": "-LMJNdELZPRI",
        "outputId": "5bd31615-272b-4700-b5be-6ea5a5619ac4"
      },
      "execution_count": 12,
      "outputs": [
        {
          "output_type": "stream",
          "name": "stdout",
          "text": [
            "torch.Size([750, 2]) torch.Size([750])\n"
          ]
        }
      ]
    },
    {
      "cell_type": "code",
      "source": [
        "# This is a ex\n",
        "a=torch.rand(2,4)\n",
        "print(a)\n",
        "print(a.exp())\n",
        "print(a.exp().sum(-1))\n",
        "# print(a.exp().sum(-1).unsqeeze(-1))11\n",
        "\n",
        "# print(a.exp().sum(-1).unsqeeze(-1).shape)"
      ],
      "metadata": {
        "colab": {
          "base_uri": "https://localhost:8080/"
        },
        "id": "UrqUZa8havZE",
        "outputId": "651446dd-c9ff-4d74-d261-0a0e70ffb836"
      },
      "execution_count": 13,
      "outputs": [
        {
          "output_type": "stream",
          "name": "stdout",
          "text": [
            "tensor([[0.4963, 0.7682, 0.0885, 0.1320],\n",
            "        [0.3074, 0.6341, 0.4901, 0.8964]])\n",
            "tensor([[1.6426, 2.1559, 1.0925, 1.1411],\n",
            "        [1.3599, 1.8853, 1.6325, 2.4509]])\n",
            "tensor([6.0321, 7.3285])\n"
          ]
        }
      ]
    },
    {
      "cell_type": "code",
      "source": [
        "\n",
        "# using Pytorch .tensor for claculating weight and bias\n",
        "def model(x):\n",
        "  # for updating the weights we are using a1\n",
        "  a1=torch.matmul(x,weights1)+bias1   #(N,2) X (2,2) -->(N,2)\n",
        "  h1=a1.sigmoid()                     #(N,2)\n",
        "  a2=torch.matmul(h1,weights2)+bias2  #(N,2) X (2,4) -->(N,4)\n",
        "  h2=a2.exp()/a2.exp().sum(-1).unsqueeze(-1)\n",
        "  return h2"
      ],
      "metadata": {
        "id": "q04JRJIOZWNY"
      },
      "execution_count": 14,
      "outputs": []
    },
    {
      "cell_type": "code",
      "source": [
        "\n",
        "# ex\n",
        "# we need to calculate the highest value because that has more possibility to converge with the origianl weight\n",
        "y_hat=torch.tensor([[0.1,0.2,0.4,0.3],[0.8,0.1,0.05,0.05]])\n",
        "# y denotes the index to the 4 classes so at index 2 and 0 is the highest value of softmax which is what the model should predict\n",
        "y=torch.tensor([2,0])\n",
        "(y_hat[range(y.shape[0]),y].log()).mean().item()\n",
        "# (torch.argmax(y_hat,dim=1)==y ).float().mean().item()"
      ],
      "metadata": {
        "colab": {
          "base_uri": "https://localhost:8080/"
        },
        "id": "LYmK_Sdn4zEl",
        "outputId": "a4d646fd-a946-4d61-c831-9719244e8a03"
      },
      "execution_count": 15,
      "outputs": [
        {
          "output_type": "execute_result",
          "data": {
            "text/plain": [
              "-0.5697171092033386"
            ]
          },
          "metadata": {},
          "execution_count": 15
        }
      ]
    },
    {
      "cell_type": "code",
      "source": [
        "def loss_fn(y_hat,y):\n",
        "  # we are calculating the cross entropy loss here the formula for CE=-[ylogy_hat+(1-y)log(1-y_hat)]\n",
        "  return -(y_hat[range(y.shape[0]), y].log()).mean()"
      ],
      "metadata": {
        "id": "s7F1_6WIZycJ"
      },
      "execution_count": 16,
      "outputs": []
    },
    {
      "cell_type": "code",
      "source": [
        "def accuracy(pred,y):\n",
        "  # argmax is used to find the maximum probablity among  all the indexes of classes\n",
        "  y_hat=torch.argmax(pred,dim=1)\n",
        "  return(y_hat==y).float().mean()"
      ],
      "metadata": {
        "id": "M31rQNHqZ1vO"
      },
      "execution_count": 17,
      "outputs": []
    },
    {
      "cell_type": "code",
      "source": [
        "torch.manual_seed(0)\n",
        "# we divide it with sqrt so that it can be in a particular range\n",
        "weights1=torch.randn(2,2)/math.sqrt(2)\n",
        "weights1.requires_grad_()\n",
        "bias1=torch.zeros(2,requires_grad=True)\n",
        "weights2=torch.randn(2,4)/math.sqrt(2)\n",
        "weights2.requires_grad_()\n",
        "bias2=torch.zeros(4,requires_grad=True)\n",
        "learning_rate=0.2\n",
        "epochs=10000\n",
        "X_train=X_train.float()\n",
        "Y_train=Y_train.long()\n",
        "loss_arr=[]\n",
        "accuracy_arr=[]\n",
        "for epoch in range(epochs):\n",
        "  y_hat=model(X_train)\n",
        "  loss=loss_fn(y_hat,Y_train)\n",
        "  loss.backward()\n",
        "  loss_arr.append(loss.item())\n",
        "  accuracy_arr.append(accuracy(y_hat,Y_train))\n",
        "\n",
        "  with torch.no_grad():\n",
        "    weights1-=learning_rate*weights1.grad\n",
        "    bias1-=learning_rate*bias1.grad\n",
        "    weights2-=learning_rate*weights2.grad\n",
        "    bias2-=learning_rate*bias2.grad\n",
        "    weights1.grad.zero_()\n",
        "    bias1.grad.zero_()\n",
        "    weights2.grad.zero_()\n",
        "    bias2.grad.zero_()\n",
        "plt.plot(loss_arr,'r-')\n",
        "plt.plot(accuracy_arr,'b-')\n",
        "plt.show()\n",
        "print('Loss before training',loss_arr[0])\n",
        "print('loss after training',loss_arr[-1])\n",
        "print('Accuracy before training',accuracy_arr[0])\n",
        "print('Accuracy after training',accuracy_arr[-1])"
      ],
      "metadata": {
        "colab": {
          "base_uri": "https://localhost:8080/",
          "height": 501
        },
        "id": "MvpNNAmyZ931",
        "outputId": "cc454f9c-cc13-48d8-f42c-a8322984ce12"
      },
      "execution_count": 18,
      "outputs": [
        {
          "output_type": "display_data",
          "data": {
            "text/plain": [
              "<Figure size 640x480 with 1 Axes>"
            ],
            "image/png": "[encoded data removed]"
          },
          "metadata": {}
        },
        {
          "output_type": "stream",
          "name": "stdout",
          "text": [
            "Loss before training 1.5456440448760986\n",
            "loss after training 0.19288595020771027\n",
            "Accuracy before training tensor(0.2507)\n",
            "Accuracy after training tensor(0.9227)\n"
          ]
        }
      ]
    },
    {
      "cell_type": "markdown",
      "source": [
        "#Using nn.Functional"
      ],
      "metadata": {
        "id": "nVAm4z-Z45GE"
      }
    },
    {
      "cell_type": "code",
      "source": [
        "# using NN .Functional\n",
        "import torch.nn.functional as F"
      ],
      "metadata": {
        "id": "FcBEdvn38CDp"
      },
      "execution_count": 19,
      "outputs": []
    },
    {
      "cell_type": "code",
      "source": [
        "torch.manual_seed(0)\n",
        "weights1=torch.randn(2,2)/math.sqrt(2)\n",
        "weights1.requires_grad_()\n",
        "bias1=torch.zeros(2,requires_grad=True)\n",
        "weights2=torch.randn(2,4)/math.sqrt(2)\n",
        "weights2.requires_grad_()\n",
        "bias2=torch.zeros(4,requires_grad=True)\n",
        "\n",
        "learning_rate=0.2\n",
        "epochs=10000\n",
        "\n",
        "loss_arr=[]\n",
        "acc_arr=[]\n",
        "\n",
        "for epochs in range(epochs):\n",
        "  y_hat=model(X_train)\n",
        "  loss=F.cross_entropy(y_hat,Y_train)\n",
        "  loss.backward()\n",
        "  loss_arr.append(loss.item())\n",
        "  acc_arr.append(accuracy(y_hat,Y_train))\n",
        "\n",
        "  with torch.no_grad():\n",
        "    weights1-=learning_rate*weights1.grad\n",
        "    bias1-=learning_rate*bias1.grad\n",
        "    weights2-=learning_rate*weights2.grad\n",
        "    bias2-=learning_rate*bias2.grad\n",
        "    # gradient should become 0 to get the right direction for the weigths to update for every epoch\n",
        "    weights1.grad.zero_()\n",
        "    bias1.grad.zero_()\n",
        "    weights2.grad.zero_()\n",
        "    bias2.grad.zero_()\n",
        "plt.plot(loss_arr,'r-')\n",
        "plt.plot(acc_arr,'b-')\n",
        "plt.show()\n",
        "print('Loss before training',loss_arr[0])\n",
        "print('loss after training',loss_arr[-1])\n",
        "print('Accuracy before training',acc_arr[0])\n",
        "print('Accuracy after training',acc_arr[-1])"
      ],
      "metadata": {
        "colab": {
          "base_uri": "https://localhost:8080/",
          "height": 499
        },
        "id": "dtdUcZUuH2J5",
        "outputId": "9b470a25-0735-49c9-892c-c5b2db1d7c35"
      },
      "execution_count": 20,
      "outputs": [
        {
          "output_type": "display_data",
          "data": {
            "text/plain": [
              "<Figure size 640x480 with 1 Axes>"
            ],
            "image/png": "[encoded data removed]"
          },
          "metadata": {}
        },
        {
          "output_type": "stream",
          "name": "stdout",
          "text": [
            "Loss before training 1.4111982583999634\n",
            "loss after training 0.9561846256256104\n",
            "Accuracy before training tensor(0.2507)\n",
            "Accuracy after training tensor(0.8253)\n"
          ]
        }
      ]
    },
    {
      "cell_type": "markdown",
      "source": [
        "#using nn.Parameter"
      ],
      "metadata": {
        "id": "aBgpuKYz49Dq"
      }
    },
    {
      "cell_type": "code",
      "source": [
        "import torch.nn as nn"
      ],
      "metadata": {
        "id": "0jVTQldcJgX0"
      },
      "execution_count": 22,
      "outputs": []
    },
    {
      "cell_type": "code",
      "source": [
        "class FirstNetwork(nn.Module):\n",
        "  def __init__(self):\n",
        "    super().__init__()\n",
        "    torch.manual_seed(0)\n",
        "    # nn.Parameter is used to segregate every weights and bias at one place so taht u can uodate the weight just by calling class name .parameters\n",
        "    self.weights1=nn.Parameter(torch.randn(2,2)/math.sqrt(2))\n",
        "    self.bias1=nn.Parameter(torch.zeros(2))\n",
        "    self.weights2=nn.Parameter(torch.randn(2,4)/math.sqrt(2))\n",
        "    self.bias2=nn.Parameter(torch.zeros(4))\n",
        "  def forward(self,X):\n",
        "    a1=torch.matmul(X,self.weights1)+self.bias1\n",
        "    h1=a1.sigmoid()\n",
        "    a2=torch.matmul(h1,self.weights2)+self.bias2\n",
        "    # softmax function\n",
        "    h2=a2.exp()/a2.exp().sum(-1).unsqueeze(-1)\n",
        "    return h2"
      ],
      "metadata": {
        "id": "qDkOgIDcJixz"
      },
      "execution_count": 23,
      "outputs": []
    },
    {
      "cell_type": "code",
      "source": [
        "def fit(epochs=1000,learning_rate=1):\n",
        "  loss_arr=[]\n",
        "  acc_arr=[]\n",
        "  for epoch in range(epochs):\n",
        "    y_hat=fn(X_train)\n",
        "    loss=F.cross_entropy(y_hat,Y_train)\n",
        "    loss.backward()\n",
        "    loss_arr.append(loss.item())\n",
        "    acc_arr.append(accuracy(y_hat,Y_train))\n",
        "    with torch.no_grad():\n",
        "      for param in fn.parameters():\n",
        "        if param.grad != None:\n",
        "          param-=learning_rate * param.grad\n",
        "    fn.zero_grad()\n",
        "\n",
        "  plt.plot(loss_arr,'r-')\n",
        "  plt.plot(acc_arr,'b-')\n",
        "  plt.show()\n",
        "  print('Loss before training',loss_arr[0])\n",
        "  print('loss after training',loss_arr[-1])\n",
        "  print('Accuracy before training',acc_arr[0])\n",
        "  print('Accuracy after training',acc_arr[-1])"
      ],
      "metadata": {
        "id": "zjVDzrkWKGkw"
      },
      "execution_count": 24,
      "outputs": []
    },
    {
      "cell_type": "code",
      "source": [
        "fn=FirstNetwork()\n",
        "fit()"
      ],
      "metadata": {
        "colab": {
          "base_uri": "https://localhost:8080/",
          "height": 499
        },
        "id": "TIh1oClgLNrD",
        "outputId": "534c1e48-d9da-4c1f-d111-4afddeb8dd9f"
      },
      "execution_count": 25,
      "outputs": [
        {
          "output_type": "display_data",
          "data": {
            "text/plain": [
              "<Figure size 640x480 with 1 Axes>"
            ],
            "image/png": "[encoded data removed]"
          },
          "metadata": {}
        },
        {
          "output_type": "stream",
          "name": "stdout",
          "text": [
            "Loss before training 1.4111982583999634\n",
            "loss after training 0.9939236044883728\n",
            "Accuracy before training tensor(0.2507)\n",
            "Accuracy after training tensor(0.7773)\n"
          ]
        }
      ]
    },
    {
      "cell_type": "code",
      "source": [
        "class FirstNetwork_v1(nn.Module):\n",
        "  def __init__(self):\n",
        "    super().__init__()\n",
        "    torch.manual_seed(0)\n",
        "    # first layer has 2 neuron and the output of 1 st layer will be the input for the 2 nd layer\n",
        "    self.lin1=nn.Linear(2,2)\n",
        "    self.lin2=nn.Linear(2,4)\n",
        "  def forward(self,X):\n",
        "    a1=self.lin1(X)\n",
        "    h1=a1.sigmoid()\n",
        "    a2=self.lin2(h1)\n",
        "    h2=a2.exp()/a2.exp().sum(-1).unsqueeze(-1)\n",
        "    return h2\n"
      ],
      "metadata": {
        "id": "7Gk0QdoJRUel"
      },
      "execution_count": 26,
      "outputs": []
    },
    {
      "cell_type": "code",
      "source": [
        "fn=FirstNetwork_v1()\n",
        "fit()"
      ],
      "metadata": {
        "colab": {
          "base_uri": "https://localhost:8080/",
          "height": 499
        },
        "id": "1eMoDh4MSRoB",
        "outputId": "51a51f1f-2455-43d4-cde1-a80ecb3729ce"
      },
      "execution_count": 27,
      "outputs": [
        {
          "output_type": "display_data",
          "data": {
            "text/plain": [
              "<Figure size 640x480 with 1 Axes>"
            ],
            "image/png": "[encoded data removed]"
          },
          "metadata": {}
        },
        {
          "output_type": "stream",
          "name": "stdout",
          "text": [
            "Loss before training 1.3951597213745117\n",
            "loss after training 0.8738412857055664\n",
            "Accuracy before training tensor(0.1640)\n",
            "Accuracy after training tensor(0.8867)\n"
          ]
        }
      ]
    },
    {
      "cell_type": "code",
      "source": [
        "from torch import optim"
      ],
      "metadata": {
        "id": "XoswEPR3SWre"
      },
      "execution_count": 28,
      "outputs": []
    },
    {
      "cell_type": "code",
      "source": [
        "class FirstNetwork_v1(nn.Module):\n",
        "\n",
        "  def __init__(self):\n",
        "    super().__init__()\n",
        "    torch.manual_seed(0)\n",
        " # this will automaticallly give teh value of weight and bias as 2 and o2 it gives very small value\n",
        "    self.lin1=nn.Linear(2,2)\n",
        "    self.lin2=nn.Linear(2,4)\n",
        "  def forward(self,X):\n",
        "    a1=self.lin1(X)\n",
        "    h1=a1.sigmoid()\n",
        "    a2=self.lin2(h1)\n",
        "    h2=a2.exp()/a2.exp().sum(-1).unsqueeze(-1)\n",
        "    return h2"
      ],
      "metadata": {
        "id": "mCUlnWADUwg4"
      },
      "execution_count": 29,
      "outputs": []
    },
    {
      "cell_type": "code",
      "source": [
        "fn=FirstNetwork_v1()\n",
        "fit()"
      ],
      "metadata": {
        "colab": {
          "base_uri": "https://localhost:8080/",
          "height": 499
        },
        "id": "3WH9G588e9cH",
        "outputId": "013fe2ee-d852-439e-9cf2-05eef55c5f5d"
      },
      "execution_count": 30,
      "outputs": [
        {
          "output_type": "display_data",
          "data": {
            "text/plain": [
              "<Figure size 640x480 with 1 Axes>"
            ],
            "image/png": "[encoded data removed]"
          },
          "metadata": {}
        },
        {
          "output_type": "stream",
          "name": "stdout",
          "text": [
            "Loss before training 1.3951597213745117\n",
            "loss after training 0.8738412857055664\n",
            "Accuracy before training tensor(0.1640)\n",
            "Accuracy after training tensor(0.8867)\n"
          ]
        }
      ]
    },
    {
      "cell_type": "code",
      "source": [
        "from torch import optim"
      ],
      "metadata": {
        "id": "SM5h__bHhRzt"
      },
      "execution_count": 44,
      "outputs": []
    },
    {
      "cell_type": "code",
      "source": [
        "def fit_v1(epochs=1000,learning_rate=1):\n",
        "  loss_arr=[]\n",
        "  acc_arr=[]\n",
        "  #we can directly change the weight by using these optimizer\n",
        "  # opt=optim.SGD(fn.parameters(),lr=learning_rate)\n",
        "  opt=optim.Adam(fn.parameters(),lr=learning_rate)\n",
        "\n",
        "  for epoch in range(epochs):\n",
        "    y_hat=fn(X_train)\n",
        "    # F means nn.functional\n",
        "    loss=F.cross_entropy(y_hat,Y_train)\n",
        "    loss.backward()\n",
        "    loss_arr.append(loss.item())\n",
        "    acc_arr.append(accuracy(y_hat,Y_train))\n",
        "    # .step means we are trying to do backward propogation here\n",
        "    # it updates the weight automatically based on  the optimizer used here used SGD\n",
        "    opt.step()\n",
        "    opt.zero_grad()\n",
        "  plt.plot(loss_arr,'r-')\n",
        "  plt.plot(acc_arr,'b-')\n",
        "  plt.show()\n",
        "  print('Loss before training',loss_arr[0])\n",
        "  print('loss after training',loss_arr[-1])\n",
        "  print('Accuracy before training',acc_arr[0])\n",
        "  print('Accuracy after training',acc_arr[-1])"
      ],
      "metadata": {
        "id": "KDsqXuBsiIYd"
      },
      "execution_count": 45,
      "outputs": []
    },
    {
      "cell_type": "code",
      "source": [
        "fn=FirstNetwork_v1()\n",
        "fit_v1()"
      ],
      "metadata": {
        "colab": {
          "base_uri": "https://localhost:8080/",
          "height": 499
        },
        "id": "c48dQgBJit2Y",
        "outputId": "d663632e-f959-4092-8968-1ae9cebb5379"
      },
      "execution_count": 46,
      "outputs": [
        {
          "output_type": "display_data",
          "data": {
            "text/plain": [
              "<Figure size 640x480 with 1 Axes>"
            ],
            "image/png": "[encoded data removed]"
          },
          "metadata": {}
        },
        {
          "output_type": "stream",
          "name": "stdout",
          "text": [
            "Loss before training 1.3951597213745117\n",
            "loss after training 0.8361085653305054\n",
            "Accuracy before training tensor(0.1640)\n",
            "Accuracy after training tensor(0.9107)\n"
          ]
        }
      ]
    },
    {
      "cell_type": "markdown",
      "source": [
        "#using nn.sequential"
      ],
      "metadata": {
        "id": "udyy1yjG5GQt"
      }
    },
    {
      "cell_type": "code",
      "source": [
        "# using nn.sequential\n",
        "class FirstNetwork_v2(nn.Module):\n",
        "\n",
        "  def __init__(self):\n",
        "    super().__init__()\n",
        "    torch.manual_seed(0)\n",
        "\n",
        "    self.net=nn.Sequential(\n",
        "        nn.Linear(2,2),\n",
        "        nn.Sigmoid(),\n",
        "        #so we can see that 2,2 in previous layer the weight of 1st linear layer will beused as an input for the 2nd layer\n",
        "        nn.Linear(2,4),\n",
        "        nn.Softmax(),\n",
        "    )\n",
        "  def forward(self,X):\n",
        "    return self.net(X)"
      ],
      "metadata": {
        "id": "_JwmFBNiix8p"
      },
      "execution_count": 34,
      "outputs": []
    },
    {
      "cell_type": "code",
      "source": [
        "fn=FirstNetwork_v2()\n",
        "fit_v1()"
      ],
      "metadata": {
        "id": "Hi3tS9yakKK0",
        "colab": {
          "base_uri": "https://localhost:8080/",
          "height": 499
        },
        "outputId": "9b373f76-bb20-46c0-853b-3bdd53c117cf"
      },
      "execution_count": 35,
      "outputs": [
        {
          "output_type": "display_data",
          "data": {
            "text/plain": [
              "<Figure size 640x480 with 1 Axes>"
            ],
            "image/png": "[encoded data removed]"
          },
          "metadata": {}
        },
        {
          "output_type": "stream",
          "name": "stdout",
          "text": [
            "Loss before training 1.3951597213745117\n",
            "loss after training 0.873841404914856\n",
            "Accuracy before training tensor(0.1640)\n",
            "Accuracy after training tensor(0.8867)\n"
          ]
        }
      ]
    },
    {
      "cell_type": "code",
      "source": [
        "def fit_v2(x,y,model,opt,loss_fn,epochs=1000):\n",
        "  for epoch in range(epochs):\n",
        "    loss=loss_fn(model(x),y)\n",
        "    loss.backward()\n",
        "    opt.step()\n",
        "    opt.zero_grad()\n",
        "  return loss.item()\n"
      ],
      "metadata": {
        "id": "vfCRWWrnkP_9"
      },
      "execution_count": 36,
      "outputs": []
    },
    {
      "cell_type": "code",
      "source": [
        "fn=FirstNetwork_v2()\n",
        "loss_fn=F.cross_entropy\n",
        "opt=optim.SGD(fn.parameters(),lr=1)\n",
        "fit_v2(X_train,Y_train,fn,opt,loss_fn)"
      ],
      "metadata": {
        "colab": {
          "base_uri": "https://localhost:8080/"
        },
        "id": "xcnPyuxgmOhB",
        "outputId": "7bcbd09d-6f96-45d9-b206-544c5b9e88b6"
      },
      "execution_count": 37,
      "outputs": [
        {
          "output_type": "execute_result",
          "data": {
            "text/plain": [
              "0.873841404914856"
            ]
          },
          "metadata": {},
          "execution_count": 37
        }
      ]
    },
    {
      "cell_type": "code",
      "source": [
        "# Running it in GPU\n",
        "device=torch.device(\"cpu\")\n",
        "X_train=X_train.to(device)\n",
        "Y_train=Y_train.to(device)\n",
        "fn=FirstNetwork_v2()\n",
        "fn.to(device)\n",
        "tic=time.time()\n",
        "print('Final loss' ,fit_v2(X_train,Y_train,fn,opt,loss_fn))\n",
        "toc=time.time()\n",
        "print(f'Time taken {toc-tic}')"
      ],
      "metadata": {
        "colab": {
          "base_uri": "https://localhost:8080/"
        },
        "id": "lvqaGDvPndo9",
        "outputId": "2c9c2e4e-b32e-4ee3-ee20-d4614e6ec672"
      },
      "execution_count": 38,
      "outputs": [
        {
          "output_type": "stream",
          "name": "stdout",
          "text": [
            "Final loss 1.3951597213745117\n",
            "Time taken 1.050567865371704\n"
          ]
        }
      ]
    },
    {
      "cell_type": "code",
      "source": [
        "#  Running it in GPU\n",
        "device=torch.device(\"cuda\")\n",
        "X_train=X_train.to(device)\n",
        "Y_train=Y_train.to(device)\n",
        "fn=FirstNetwork_v2()\n",
        "fn.to(device)\n",
        "tic=time.time()\n",
        "print('Final loss' ,fit_v2(X_train,Y_train,fn,opt,loss_fn))\n",
        "toc=time.time()\n",
        "print(f'Time taken {toc-tic}')"
      ],
      "metadata": {
        "id": "YBYMCqewo1FB",
        "colab": {
          "base_uri": "https://localhost:8080/"
        },
        "outputId": "923315a1-6e63-445b-e20b-2a154c8d35cc"
      },
      "execution_count": 39,
      "outputs": [
        {
          "output_type": "stream",
          "name": "stdout",
          "text": [
            "Final loss 1.3951594829559326\n",
            "Time taken 1.3419451713562012\n"
          ]
        }
      ]
    },
    {
      "cell_type": "code",
      "source": [
        "# using nn.sequential\n",
        "class FirstNetwork_v3(nn.Module):\n",
        "\n",
        "  def __init__(self):\n",
        "    super().__init__()\n",
        "    torch.manual_seed(0)\n",
        "    self.net=nn.Sequential(\n",
        "        nn.Linear(2,128),\n",
        "        nn.Sigmoid(),\n",
        "        #so we can see that 2,2 in previous layer the weight of 1st linear layer will beused as an input for the 2nd layer\n",
        "        nn.Linear(128,4),\n",
        "        nn.Softmax(),\n",
        "    )\n",
        "  def forward(self,X):\n",
        "    return self.net(X)"
      ],
      "metadata": {
        "id": "ue9VFfAPpYn5"
      },
      "execution_count": 40,
      "outputs": []
    },
    {
      "cell_type": "code",
      "source": [
        "#  Running it in CPU\n",
        "device=torch.device(\"cpu\")\n",
        "X_train=X_train.to(device)\n",
        "Y_train=Y_train.to(device)\n",
        "fn=FirstNetwork_v3()\n",
        "fn.to(device)\n",
        "tic=time.time()\n",
        "print('Final loss' ,fit_v2(X_train,Y_train,fn,opt,loss_fn))\n",
        "toc=time.time()\n",
        "print(f'Time taken {toc-tic}')"
      ],
      "metadata": {
        "id": "t9dLtPgMpkzW",
        "colab": {
          "base_uri": "https://localhost:8080/"
        },
        "outputId": "6f459dfc-d4cb-4479-9b15-e722dad746f4"
      },
      "execution_count": 41,
      "outputs": [
        {
          "output_type": "stream",
          "name": "stdout",
          "text": [
            "Final loss 1.398587942123413\n",
            "Time taken 1.1948022842407227\n"
          ]
        }
      ]
    },
    {
      "cell_type": "code",
      "source": [
        "#  Running it in GPU\n",
        "device=torch.device(\"cuda\")\n",
        "X_train=X_train.to(device)\n",
        "Y_train=Y_train.to(device)\n",
        "fn=FirstNetwork_v2()\n",
        "fn.to(device)\n",
        "tic=time.time()\n",
        "print('Final loss' ,fit_v2(X_train,Y_train,fn,opt,loss_fn))\n",
        "toc=time.time()\n",
        "print(f'Time taken {toc-tic}')"
      ],
      "metadata": {
        "id": "B0cijyFtprZf",
        "colab": {
          "base_uri": "https://localhost:8080/"
        },
        "outputId": "c9d2f2cc-5160-4938-9229-4fd6db4c27a2"
      },
      "execution_count": null,
      "outputs": [
        {
          "output_type": "stream",
          "name": "stdout",
          "text": [
            "Final loss 1.3951594829559326\n",
            "Time taken 0.9946670532226562\n"
          ]
        }
      ]
    },
    {
      "cell_type": "code",
      "source": [
        "# try out with a deeper neural network eg 2 hidden layers\n",
        "# try out different parameters in the optimizer (eg try momentrun nestrov)--->check optim.SGD docs\n",
        "# 3.try out other optimizer methods(eg RMSProp and Adam)hich are supported in optim\n",
        "# /try out different ininalization methods which are supported in nn.init"
      ],
      "metadata": {
        "id": "lECKl3_Pq1Eh"
      },
      "execution_count": null,
      "outputs": []
    },
    {
      "cell_type": "code",
      "source": [
        "# using nn.sequential\n",
        "# with 2 hidden layer\n",
        "class FirstNetwork_v2(nn.Module):\n",
        "\n",
        "  def __init__(self):\n",
        "    super().__init__()\n",
        "    torch.manual_seed(0)\n",
        "\n",
        "    self.net=nn.Sequential(\n",
        "        nn.Linear(2,2),\n",
        "        nn.Sigmoid(),\n",
        "        nn.Linear(2,4),\n",
        "        nn.Sigmoid(),\n",
        "        nn.Linear(4,4),\n",
        "        nn.Sigmoid(),\n",
        "        #so we can see that 2,2 in previous layer the weight of 1st linear layer will beused as an input for the 2nd layer\n",
        "        nn.Linear(4,6),\n",
        "        nn.Softmax(),\n",
        "    )\n",
        "  def forward(self,X):\n",
        "    return self.net(X)"
      ],
      "metadata": {
        "id": "-RLqSnHW0uFk"
      },
      "execution_count": 42,
      "outputs": []
    },
    {
      "cell_type": "code",
      "source": [
        "fn=FirstNetwork_v2()\n",
        "fit_v1()"
      ],
      "metadata": {
        "colab": {
          "base_uri": "https://localhost:8080/",
          "height": 499
        },
        "id": "zK4KiKmw1ZhA",
        "outputId": "844b7e2a-ab2e-436d-81ac-2be41d56d891"
      },
      "execution_count": 43,
      "outputs": [
        {
          "output_type": "display_data",
          "data": {
            "text/plain": [
              "<Figure size 640x480 with 1 Axes>"
            ],
            "image/png": "[encoded data removed]"
          },
          "metadata": {}
        },
        {
          "output_type": "stream",
          "name": "stdout",
          "text": [
            "Loss before training 1.7837471961975098\n",
            "loss after training 1.7128760814666748\n",
            "Accuracy before training tensor(0.2507)\n",
            "Accuracy after training tensor(0.2680)\n"
          ]
        }
      ]
    },
    {
      "cell_type": "code",
      "source": [],
      "metadata": {
        "id": "nC3it_PP14py"
      },
      "execution_count": null,
      "outputs": []
    }
  ]
}